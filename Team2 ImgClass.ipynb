{
  "nbformat": 4,
  "nbformat_minor": 0,
  "metadata": {
    "colab": {
      "name": "Copie de Untitled41.ipynb",
      "provenance": [],
      "collapsed_sections": []
    },
    "kernelspec": {
      "name": "python3",
      "display_name": "Python 3"
    },
    "language_info": {
      "name": "python"
    },
    "accelerator": "GPU"
  },
  "cells": [
    {
      "cell_type": "code",
      "execution_count": null,
      "metadata": {
        "colab": {
          "base_uri": "https://localhost:8080/"
        },
        "id": "ASRC7cpxhXq_",
        "outputId": "3004dd9e-c0ce-4ac8-ad0f-4c2f697d8107"
      },
      "outputs": [
        {
          "output_type": "stream",
          "name": "stdout",
          "text": [
            "Requirement already satisfied: kaggle in /usr/local/lib/python3.7/dist-packages (1.5.12)\n",
            "Requirement already satisfied: tqdm in /usr/local/lib/python3.7/dist-packages (from kaggle) (4.63.0)\n",
            "Requirement already satisfied: urllib3 in /usr/local/lib/python3.7/dist-packages (from kaggle) (1.24.3)\n",
            "Requirement already satisfied: certifi in /usr/local/lib/python3.7/dist-packages (from kaggle) (2021.10.8)\n",
            "Requirement already satisfied: python-dateutil in /usr/local/lib/python3.7/dist-packages (from kaggle) (2.8.2)\n",
            "Requirement already satisfied: requests in /usr/local/lib/python3.7/dist-packages (from kaggle) (2.23.0)\n",
            "Requirement already satisfied: six>=1.10 in /usr/local/lib/python3.7/dist-packages (from kaggle) (1.15.0)\n",
            "Requirement already satisfied: python-slugify in /usr/local/lib/python3.7/dist-packages (from kaggle) (6.1.1)\n",
            "Requirement already satisfied: text-unidecode>=1.3 in /usr/local/lib/python3.7/dist-packages (from python-slugify->kaggle) (1.3)\n",
            "Requirement already satisfied: chardet<4,>=3.0.2 in /usr/local/lib/python3.7/dist-packages (from requests->kaggle) (3.0.4)\n",
            "Requirement already satisfied: idna<3,>=2.5 in /usr/local/lib/python3.7/dist-packages (from requests->kaggle) (2.10)\n"
          ]
        }
      ],
      "source": [
        "!pip install kaggle"
      ]
    },
    {
      "cell_type": "code",
      "source": [
        "! mkdir ~/.kaggle\n",
        "! cp kaggle.json ~/.kaggle/\n",
        "! chmod 600 ~/.kaggle/kaggle.json"
      ],
      "metadata": {
        "id": "9FTfwanjh_KT"
      },
      "execution_count": null,
      "outputs": []
    },
    {
      "cell_type": "code",
      "source": [
        "!kaggle datasets download -d misrakahmed/vegetable-image-dataset"
      ],
      "metadata": {
        "colab": {
          "base_uri": "https://localhost:8080/"
        },
        "id": "5Lyqqy8wnZWR",
        "outputId": "9fca443f-3125-49be-8881-f54c802739d8"
      },
      "execution_count": null,
      "outputs": [
        {
          "output_type": "stream",
          "name": "stdout",
          "text": [
            "Downloading vegetable-image-dataset.zip to /content\n",
            " 96% 514M/534M [00:01<00:00, 282MB/s]\n",
            "100% 534M/534M [00:01<00:00, 284MB/s]\n"
          ]
        }
      ]
    },
    {
      "cell_type": "code",
      "source": [
        "import os\n",
        "import zipfile\n",
        "\n",
        "local_zip = '/content/vegetable-image-dataset.zip'\n",
        "zip_ref = zipfile.ZipFile(local_zip, 'r')\n",
        "zip_ref.extractall('/content/data')\n",
        "zip_ref.close()"
      ],
      "metadata": {
        "id": "VDi9E0dnnkdm"
      },
      "execution_count": null,
      "outputs": []
    },
    {
      "cell_type": "code",
      "source": [
        "import tensorflow as tf\n",
        "import keras_preprocessing\n",
        "from keras_preprocessing import image\n",
        "from keras_preprocessing.image import ImageDataGenerator\n",
        "\n",
        "TRAINING_DIR = \"/content/data/Vegetable Images/train\"\n",
        "training_datagen = ImageDataGenerator(\n",
        "      rescale = 1./255,\n",
        "\t    rotation_range=40,\n",
        "      width_shift_range=0.2,\n",
        "      height_shift_range=0.2,\n",
        "      shear_range=0.2,\n",
        "      zoom_range=0.2,\n",
        "      horizontal_flip=True,\n",
        "      fill_mode='nearest')\n",
        "\n",
        "VALIDATION_DIR = \"/content/data/Vegetable Images/validation\"\n",
        "validation_datagen = ImageDataGenerator(rescale = 1./255)\n",
        "\n",
        "train_generator = training_datagen.flow_from_directory(\n",
        "\tTRAINING_DIR,\n",
        "\ttarget_size=(224,224),\n",
        "\tclass_mode='categorical',\n",
        "  batch_size=32\n",
        ")\n",
        "\n",
        "validation_generator = validation_datagen.flow_from_directory(\n",
        "\tVALIDATION_DIR,\n",
        "\ttarget_size=(224,224),\n",
        "\tclass_mode='categorical',\n",
        "  batch_size=32\n",
        ")"
      ],
      "metadata": {
        "colab": {
          "base_uri": "https://localhost:8080/"
        },
        "id": "5hdM_DSSn2y3",
        "outputId": "3d816406-ac48-481b-8f13-06bf7420ba8d"
      },
      "execution_count": null,
      "outputs": [
        {
          "output_type": "stream",
          "name": "stdout",
          "text": [
            "Found 15000 images belonging to 15 classes.\n",
            "Found 3000 images belonging to 15 classes.\n"
          ]
        }
      ]
    },
    {
      "cell_type": "code",
      "source": [
        "def decay(epoch):\n",
        "  if epoch < 3:\n",
        "    return 1e-3\n",
        "  elif epoch >= 3 and epoch < 7:\n",
        "    return 1e-4\n",
        "  elif epoch >= 7 and epoch < 10:\n",
        "    return 1e-5\n",
        "  else:\n",
        "    return 1e-6\n",
        "\n",
        "# Define a callback for printing the learning rate at the end of each epoch.\n",
        "class PrintLR(tf.keras.callbacks.Callback):\n",
        "  def on_epoch_end(self, epoch, logs=None):\n",
        "    print('\\nLearning rate for epoch {} is {}'.format(epoch + 1,\n",
        "                                                      model.optimizer.lr.numpy()))"
      ],
      "metadata": {
        "id": "dNXameSK0Pkd"
      },
      "execution_count": null,
      "outputs": []
    },
    {
      "cell_type": "code",
      "source": [
        "callbacks = [\n",
        "    tf.keras.callbacks.LearningRateScheduler(decay),\n",
        "    tf.keras.callbacks.EarlyStopping(monitor=\"val_loss\",patience=3,mode=\"min\",restore_best_weights=True,),\n",
        "    PrintLR()\n",
        "]"
      ],
      "metadata": {
        "id": "-4owPPRJ0aiB"
      },
      "execution_count": null,
      "outputs": []
    },
    {
      "cell_type": "code",
      "source": [
        "import tensorflow as tf\n",
        "import tensorflow.keras.backend as K\n",
        "from sklearn.metrics import confusion_matrix\n",
        "\n",
        "from tensorflow.keras import models\n",
        "from tensorflow.keras.models import Model\n",
        "from tensorflow.keras.models import load_model\n",
        "from tensorflow.keras.preprocessing import image\n",
        "from tensorflow.keras.applications import VGG19\n",
        "from tensorflow.keras.layers import Dense, Flatten, GlobalAveragePooling2D, Dense, Dropout"
      ],
      "metadata": {
        "id": "I41PLYAJ3Yvz"
      },
      "execution_count": null,
      "outputs": []
    },
    {
      "cell_type": "code",
      "source": [
        "class_map = train_generator.class_indices"
      ],
      "metadata": {
        "id": "sWbErVUk6FhC"
      },
      "execution_count": null,
      "outputs": []
    },
    {
      "cell_type": "code",
      "source": [
        "IMAGE_SIZE = [224, 224]\n",
        "\n",
        "VGG = VGG19(input_shape=IMAGE_SIZE + [3], weights='imagenet', include_top=False)\n",
        "\n",
        "for layer in VGG.layers:\n",
        "    layer.trainable = False\n",
        "\n",
        "x = VGG.output\n",
        "x = GlobalAveragePooling2D()(x)\n",
        "x = Dense(128,activation='relu')(x)\n",
        "x = Dropout(0.2)(x)\n",
        "\n",
        "prediction = Dense(15, activation='softmax')(x)\n",
        "\n",
        "model = Model(inputs=VGG.input, outputs=prediction)\n",
        "model.compile(\n",
        "  loss='categorical_crossentropy',\n",
        "  optimizer='adam',\n",
        "  metrics=['accuracy']\n",
        ")"
      ],
      "metadata": {
        "id": "V6a1RfQf3RLU",
        "colab": {
          "base_uri": "https://localhost:8080/"
        },
        "outputId": "7b3daba5-7b93-4906-a854-9f690334f518"
      },
      "execution_count": null,
      "outputs": [
        {
          "output_type": "stream",
          "name": "stdout",
          "text": [
            "Downloading data from https://storage.googleapis.com/tensorflow/keras-applications/vgg19/vgg19_weights_tf_dim_ordering_tf_kernels_notop.h5\n",
            "80142336/80134624 [==============================] - 0s 0us/step\n",
            "80150528/80134624 [==============================] - 0s 0us/step\n"
          ]
        }
      ]
    },
    {
      "cell_type": "code",
      "source": [
        "history = model.fit(train_generator, epochs=15, steps_per_epoch=468, \n",
        "                    validation_data = validation_generator, callbacks=callbacks,\n",
        "                    verbose = 1, validation_steps=93)"
      ],
      "metadata": {
        "id": "WaDRSTeq6IsY",
        "colab": {
          "base_uri": "https://localhost:8080/"
        },
        "outputId": "1ddf06de-a649-48bd-d2d1-414a7091a4bb"
      },
      "execution_count": null,
      "outputs": [
        {
          "output_type": "stream",
          "name": "stdout",
          "text": [
            "Epoch 1/15\n",
            "468/468 [==============================] - ETA: 0s - loss: 0.6082 - accuracy: 0.8286\n",
            "Learning rate for epoch 1 is 0.0010000000474974513\n",
            "468/468 [==============================] - 210s 449ms/step - loss: 0.6082 - accuracy: 0.8286 - val_loss: 0.3064 - val_accuracy: 0.9170 - lr: 0.0010\n",
            "Epoch 2/15\n",
            "468/468 [==============================] - ETA: 0s - loss: 0.4453 - accuracy: 0.8732\n",
            "Learning rate for epoch 2 is 0.0010000000474974513\n",
            "468/468 [==============================] - 209s 446ms/step - loss: 0.4453 - accuracy: 0.8732 - val_loss: 0.2370 - val_accuracy: 0.9298 - lr: 0.0010\n",
            "Epoch 3/15\n",
            "468/468 [==============================] - ETA: 0s - loss: 0.3511 - accuracy: 0.9003\n",
            "Learning rate for epoch 3 is 0.0010000000474974513\n",
            "468/468 [==============================] - 208s 443ms/step - loss: 0.3511 - accuracy: 0.9003 - val_loss: 0.1834 - val_accuracy: 0.9553 - lr: 0.0010\n",
            "Epoch 4/15\n",
            "468/468 [==============================] - ETA: 0s - loss: 0.2969 - accuracy: 0.9161\n",
            "Learning rate for epoch 4 is 9.999999747378752e-05\n",
            "468/468 [==============================] - 207s 442ms/step - loss: 0.2969 - accuracy: 0.9161 - val_loss: 0.1551 - val_accuracy: 0.9590 - lr: 1.0000e-04\n",
            "Epoch 5/15\n",
            "468/468 [==============================] - ETA: 0s - loss: 0.2908 - accuracy: 0.9170\n",
            "Learning rate for epoch 5 is 9.999999747378752e-05\n",
            "468/468 [==============================] - 207s 441ms/step - loss: 0.2908 - accuracy: 0.9170 - val_loss: 0.1545 - val_accuracy: 0.9614 - lr: 1.0000e-04\n",
            "Epoch 6/15\n",
            "468/468 [==============================] - ETA: 0s - loss: 0.2903 - accuracy: 0.9160\n",
            "Learning rate for epoch 6 is 9.999999747378752e-05\n",
            "468/468 [==============================] - 207s 443ms/step - loss: 0.2903 - accuracy: 0.9160 - val_loss: 0.1487 - val_accuracy: 0.9624 - lr: 1.0000e-04\n",
            "Epoch 7/15\n",
            "468/468 [==============================] - ETA: 0s - loss: 0.2834 - accuracy: 0.9181\n",
            "Learning rate for epoch 7 is 9.999999747378752e-05\n",
            "468/468 [==============================] - 208s 445ms/step - loss: 0.2834 - accuracy: 0.9181 - val_loss: 0.1445 - val_accuracy: 0.9644 - lr: 1.0000e-04\n",
            "Epoch 8/15\n",
            "468/468 [==============================] - ETA: 0s - loss: 0.2731 - accuracy: 0.9250\n",
            "Learning rate for epoch 8 is 9.999999747378752e-06\n",
            "468/468 [==============================] - 208s 445ms/step - loss: 0.2731 - accuracy: 0.9250 - val_loss: 0.1442 - val_accuracy: 0.9647 - lr: 1.0000e-05\n",
            "Epoch 9/15\n",
            "468/468 [==============================] - ETA: 0s - loss: 0.2780 - accuracy: 0.9220\n",
            "Learning rate for epoch 9 is 9.999999747378752e-06\n",
            "468/468 [==============================] - 207s 443ms/step - loss: 0.2780 - accuracy: 0.9220 - val_loss: 0.1426 - val_accuracy: 0.9657 - lr: 1.0000e-05\n",
            "Epoch 10/15\n",
            "468/468 [==============================] - ETA: 0s - loss: 0.2708 - accuracy: 0.9233\n",
            "Learning rate for epoch 10 is 9.999999747378752e-06\n",
            "468/468 [==============================] - 206s 440ms/step - loss: 0.2708 - accuracy: 0.9233 - val_loss: 0.1428 - val_accuracy: 0.9637 - lr: 1.0000e-05\n",
            "Epoch 11/15\n",
            "468/468 [==============================] - ETA: 0s - loss: 0.2735 - accuracy: 0.9207\n",
            "Learning rate for epoch 11 is 9.999999974752427e-07\n",
            "468/468 [==============================] - 205s 439ms/step - loss: 0.2735 - accuracy: 0.9207 - val_loss: 0.1428 - val_accuracy: 0.9640 - lr: 1.0000e-06\n",
            "Epoch 12/15\n",
            "468/468 [==============================] - ETA: 0s - loss: 0.2751 - accuracy: 0.9208\n",
            "Learning rate for epoch 12 is 9.999999974752427e-07\n",
            "468/468 [==============================] - 205s 438ms/step - loss: 0.2751 - accuracy: 0.9208 - val_loss: 0.1423 - val_accuracy: 0.9640 - lr: 1.0000e-06\n",
            "Epoch 13/15\n",
            "468/468 [==============================] - ETA: 0s - loss: 0.2775 - accuracy: 0.9209\n",
            "Learning rate for epoch 13 is 9.999999974752427e-07\n",
            "468/468 [==============================] - 205s 438ms/step - loss: 0.2775 - accuracy: 0.9209 - val_loss: 0.1428 - val_accuracy: 0.9637 - lr: 1.0000e-06\n",
            "Epoch 14/15\n",
            "468/468 [==============================] - ETA: 0s - loss: 0.2739 - accuracy: 0.9214\n",
            "Learning rate for epoch 14 is 9.999999974752427e-07\n",
            "468/468 [==============================] - 206s 439ms/step - loss: 0.2739 - accuracy: 0.9214 - val_loss: 0.1418 - val_accuracy: 0.9644 - lr: 1.0000e-06\n",
            "Epoch 15/15\n",
            "468/468 [==============================] - ETA: 0s - loss: 0.2706 - accuracy: 0.9233\n",
            "Learning rate for epoch 15 is 9.999999974752427e-07\n",
            "468/468 [==============================] - 205s 438ms/step - loss: 0.2706 - accuracy: 0.9233 - val_loss: 0.1427 - val_accuracy: 0.9640 - lr: 1.0000e-06\n"
          ]
        }
      ]
    },
    {
      "cell_type": "code",
      "source": [
        "model.save('/content/model.h5')"
      ],
      "metadata": {
        "id": "7e0QZPDI-0Gl"
      },
      "execution_count": null,
      "outputs": []
    }
  ]
}
