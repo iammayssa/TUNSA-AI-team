{
  "nbformat": 4,
  "nbformat_minor": 0,
  "metadata": {
    "colab": {
      "name": "Copy of yoloV5.ipynb",
      "provenance": [],
      "toc_visible": true
    },
    "kernelspec": {
      "name": "python3",
      "display_name": "Python 3"
    }
  },
  "cells": [
    {
      "cell_type": "markdown",
      "metadata": {
        "id": "pdL38gTwDJB7"
      },
      "source": [
        "**Step 1 : Clone yolov5 repository**"
      ]
    },
    {
      "cell_type": "code",
      "metadata": {
        "id": "fU2nxkF1Da87",
        "colab": {
          "base_uri": "https://localhost:8080/"
        },
        "outputId": "cb2fb30d-0fb2-40a2-db54-d40586c7bcf5"
      },
      "source": [
        "!git clone https://github.com/ultralytics/yolov5.git"
      ],
      "execution_count": null,
      "outputs": [
        {
          "output_type": "stream",
          "name": "stdout",
          "text": [
            "fatal: destination path 'yolov5' already exists and is not an empty directory.\n"
          ]
        }
      ]
    },
    {
      "cell_type": "markdown",
      "metadata": {
        "id": "ngH58cwBDPol"
      },
      "source": [
        "**Step 2: Change Directory to yolov5**"
      ]
    },
    {
      "cell_type": "code",
      "metadata": {
        "id": "bAZfwxD0D30u",
        "colab": {
          "base_uri": "https://localhost:8080/"
        },
        "outputId": "50908e04-1bd7-4124-a8bc-098529659df5"
      },
      "source": [
        "%cd yolov5/"
      ],
      "execution_count": null,
      "outputs": [
        {
          "output_type": "stream",
          "name": "stdout",
          "text": [
            "/content/yolov5\n"
          ]
        }
      ]
    },
    {
      "cell_type": "markdown",
      "metadata": {
        "id": "tUZ57rzhDdiN"
      },
      "source": [
        "**Step 3: Install Dependencies**"
      ]
    },
    {
      "cell_type": "code",
      "metadata": {
        "id": "EteB8VlhDs-M",
        "colab": {
          "base_uri": "https://localhost:8080/"
        },
        "outputId": "9417b360-0185-4a2b-86a9-62e86eecd991"
      },
      "source": [
        "!pip install -U -r requirements.txt"
      ],
      "execution_count": null,
      "outputs": [
        {
          "output_type": "stream",
          "name": "stdout",
          "text": [
            "Looking in indexes: https://pypi.org/simple, https://us-python.pkg.dev/colab-wheels/public/simple/\n",
            "Requirement already satisfied: matplotlib>=3.2.2 in /usr/local/lib/python3.7/dist-packages (from -r requirements.txt (line 5)) (3.5.2)\n",
            "Requirement already satisfied: numpy>=1.18.5 in /usr/local/lib/python3.7/dist-packages (from -r requirements.txt (line 6)) (1.21.6)\n",
            "Requirement already satisfied: opencv-python>=4.1.1 in /usr/local/lib/python3.7/dist-packages (from -r requirements.txt (line 7)) (4.6.0.66)\n",
            "Requirement already satisfied: Pillow>=7.1.2 in /usr/local/lib/python3.7/dist-packages (from -r requirements.txt (line 8)) (9.2.0)\n",
            "Requirement already satisfied: PyYAML>=5.3.1 in /usr/local/lib/python3.7/dist-packages (from -r requirements.txt (line 9)) (6.0)\n",
            "Requirement already satisfied: requests>=2.23.0 in /usr/local/lib/python3.7/dist-packages (from -r requirements.txt (line 10)) (2.28.1)\n",
            "Requirement already satisfied: scipy>=1.4.1 in /usr/local/lib/python3.7/dist-packages (from -r requirements.txt (line 11)) (1.7.3)\n",
            "Requirement already satisfied: torch>=1.7.0 in /usr/local/lib/python3.7/dist-packages (from -r requirements.txt (line 12)) (1.12.0)\n",
            "Requirement already satisfied: torchvision>=0.8.1 in /usr/local/lib/python3.7/dist-packages (from -r requirements.txt (line 13)) (0.13.0)\n",
            "Requirement already satisfied: tqdm>=4.41.0 in /usr/local/lib/python3.7/dist-packages (from -r requirements.txt (line 14)) (4.64.0)\n",
            "Requirement already satisfied: protobuf<4.21.3 in /usr/local/lib/python3.7/dist-packages (from -r requirements.txt (line 15)) (3.19.4)\n",
            "Collecting protobuf<4.21.3\n",
            "  Using cached protobuf-4.21.2-cp37-abi3-manylinux2014_x86_64.whl (407 kB)\n",
            "Requirement already satisfied: tensorboard>=2.4.1 in /usr/local/lib/python3.7/dist-packages (from -r requirements.txt (line 18)) (2.9.1)\n",
            "Requirement already satisfied: pandas>=1.1.4 in /usr/local/lib/python3.7/dist-packages (from -r requirements.txt (line 22)) (1.3.5)\n",
            "Requirement already satisfied: seaborn>=0.11.0 in /usr/local/lib/python3.7/dist-packages (from -r requirements.txt (line 23)) (0.11.2)\n",
            "Requirement already satisfied: ipython in /usr/local/lib/python3.7/dist-packages (from -r requirements.txt (line 35)) (7.34.0)\n",
            "Requirement already satisfied: psutil in /usr/local/lib/python3.7/dist-packages (from -r requirements.txt (line 36)) (5.9.1)\n",
            "Requirement already satisfied: thop in /usr/local/lib/python3.7/dist-packages (from -r requirements.txt (line 37)) (0.1.0.post2207010342)\n",
            "Requirement already satisfied: cycler>=0.10 in /usr/local/lib/python3.7/dist-packages (from matplotlib>=3.2.2->-r requirements.txt (line 5)) (0.11.0)\n",
            "Requirement already satisfied: packaging>=20.0 in /usr/local/lib/python3.7/dist-packages (from matplotlib>=3.2.2->-r requirements.txt (line 5)) (21.3)\n",
            "Requirement already satisfied: pyparsing>=2.2.1 in /usr/local/lib/python3.7/dist-packages (from matplotlib>=3.2.2->-r requirements.txt (line 5)) (3.0.9)\n",
            "Requirement already satisfied: kiwisolver>=1.0.1 in /usr/local/lib/python3.7/dist-packages (from matplotlib>=3.2.2->-r requirements.txt (line 5)) (1.4.3)\n",
            "Requirement already satisfied: python-dateutil>=2.7 in /usr/local/lib/python3.7/dist-packages (from matplotlib>=3.2.2->-r requirements.txt (line 5)) (2.8.2)\n",
            "Requirement already satisfied: fonttools>=4.22.0 in /usr/local/lib/python3.7/dist-packages (from matplotlib>=3.2.2->-r requirements.txt (line 5)) (4.33.3)\n",
            "Requirement already satisfied: charset-normalizer<3,>=2 in /usr/local/lib/python3.7/dist-packages (from requests>=2.23.0->-r requirements.txt (line 10)) (2.0.12)\n",
            "Requirement already satisfied: idna<4,>=2.5 in /usr/local/lib/python3.7/dist-packages (from requests>=2.23.0->-r requirements.txt (line 10)) (2.10)\n",
            "Requirement already satisfied: urllib3<1.27,>=1.21.1 in /usr/local/lib/python3.7/dist-packages (from requests>=2.23.0->-r requirements.txt (line 10)) (1.24.3)\n",
            "Requirement already satisfied: certifi>=2017.4.17 in /usr/local/lib/python3.7/dist-packages (from requests>=2.23.0->-r requirements.txt (line 10)) (2022.6.15)\n",
            "Requirement already satisfied: typing-extensions in /usr/local/lib/python3.7/dist-packages (from torch>=1.7.0->-r requirements.txt (line 12)) (4.1.1)\n",
            "Requirement already satisfied: grpcio>=1.24.3 in /usr/local/lib/python3.7/dist-packages (from tensorboard>=2.4.1->-r requirements.txt (line 18)) (1.46.3)\n",
            "Requirement already satisfied: tensorboard-data-server<0.7.0,>=0.6.0 in /usr/local/lib/python3.7/dist-packages (from tensorboard>=2.4.1->-r requirements.txt (line 18)) (0.6.1)\n",
            "Requirement already satisfied: werkzeug>=1.0.1 in /usr/local/lib/python3.7/dist-packages (from tensorboard>=2.4.1->-r requirements.txt (line 18)) (1.0.1)\n",
            "Requirement already satisfied: wheel>=0.26 in /usr/local/lib/python3.7/dist-packages (from tensorboard>=2.4.1->-r requirements.txt (line 18)) (0.37.1)\n",
            "Requirement already satisfied: markdown>=2.6.8 in /usr/local/lib/python3.7/dist-packages (from tensorboard>=2.4.1->-r requirements.txt (line 18)) (3.3.7)\n",
            "Requirement already satisfied: setuptools>=41.0.0 in /usr/local/lib/python3.7/dist-packages (from tensorboard>=2.4.1->-r requirements.txt (line 18)) (57.4.0)\n",
            "Requirement already satisfied: google-auth-oauthlib<0.5,>=0.4.1 in /usr/local/lib/python3.7/dist-packages (from tensorboard>=2.4.1->-r requirements.txt (line 18)) (0.4.6)\n",
            "Requirement already satisfied: absl-py>=0.4 in /usr/local/lib/python3.7/dist-packages (from tensorboard>=2.4.1->-r requirements.txt (line 18)) (1.1.0)\n",
            "Requirement already satisfied: google-auth<3,>=1.6.3 in /usr/local/lib/python3.7/dist-packages (from tensorboard>=2.4.1->-r requirements.txt (line 18)) (1.35.0)\n",
            "Requirement already satisfied: tensorboard-plugin-wit>=1.6.0 in /usr/local/lib/python3.7/dist-packages (from tensorboard>=2.4.1->-r requirements.txt (line 18)) (1.8.1)\n",
            "Requirement already satisfied: pytz>=2017.3 in /usr/local/lib/python3.7/dist-packages (from pandas>=1.1.4->-r requirements.txt (line 22)) (2022.1)\n",
            "Requirement already satisfied: six>=1.9.0 in /usr/local/lib/python3.7/dist-packages (from google-auth<3,>=1.6.3->tensorboard>=2.4.1->-r requirements.txt (line 18)) (1.15.0)\n",
            "Requirement already satisfied: rsa<5,>=3.1.4 in /usr/local/lib/python3.7/dist-packages (from google-auth<3,>=1.6.3->tensorboard>=2.4.1->-r requirements.txt (line 18)) (4.8)\n",
            "Requirement already satisfied: pyasn1-modules>=0.2.1 in /usr/local/lib/python3.7/dist-packages (from google-auth<3,>=1.6.3->tensorboard>=2.4.1->-r requirements.txt (line 18)) (0.2.8)\n",
            "Requirement already satisfied: cachetools<5.0,>=2.0.0 in /usr/local/lib/python3.7/dist-packages (from google-auth<3,>=1.6.3->tensorboard>=2.4.1->-r requirements.txt (line 18)) (4.2.4)\n",
            "Requirement already satisfied: requests-oauthlib>=0.7.0 in /usr/local/lib/python3.7/dist-packages (from google-auth-oauthlib<0.5,>=0.4.1->tensorboard>=2.4.1->-r requirements.txt (line 18)) (1.3.1)\n",
            "Requirement already satisfied: importlib-metadata>=4.4 in /usr/local/lib/python3.7/dist-packages (from markdown>=2.6.8->tensorboard>=2.4.1->-r requirements.txt (line 18)) (4.11.4)\n",
            "Requirement already satisfied: zipp>=0.5 in /usr/local/lib/python3.7/dist-packages (from importlib-metadata>=4.4->markdown>=2.6.8->tensorboard>=2.4.1->-r requirements.txt (line 18)) (3.8.0)\n",
            "Requirement already satisfied: pyasn1<0.5.0,>=0.4.6 in /usr/local/lib/python3.7/dist-packages (from pyasn1-modules>=0.2.1->google-auth<3,>=1.6.3->tensorboard>=2.4.1->-r requirements.txt (line 18)) (0.4.8)\n",
            "Requirement already satisfied: oauthlib>=3.0.0 in /usr/local/lib/python3.7/dist-packages (from requests-oauthlib>=0.7.0->google-auth-oauthlib<0.5,>=0.4.1->tensorboard>=2.4.1->-r requirements.txt (line 18)) (3.2.0)\n",
            "Requirement already satisfied: traitlets>=4.2 in /usr/local/lib/python3.7/dist-packages (from ipython->-r requirements.txt (line 35)) (5.1.1)\n",
            "Requirement already satisfied: jedi>=0.16 in /usr/local/lib/python3.7/dist-packages (from ipython->-r requirements.txt (line 35)) (0.18.1)\n",
            "Requirement already satisfied: pexpect>4.3 in /usr/local/lib/python3.7/dist-packages (from ipython->-r requirements.txt (line 35)) (4.8.0)\n",
            "Requirement already satisfied: decorator in /usr/local/lib/python3.7/dist-packages (from ipython->-r requirements.txt (line 35)) (4.4.2)\n",
            "Requirement already satisfied: matplotlib-inline in /usr/local/lib/python3.7/dist-packages (from ipython->-r requirements.txt (line 35)) (0.1.3)\n",
            "Requirement already satisfied: prompt-toolkit!=3.0.0,!=3.0.1,<3.1.0,>=2.0.0 in /usr/local/lib/python3.7/dist-packages (from ipython->-r requirements.txt (line 35)) (3.0.30)\n",
            "Requirement already satisfied: pygments in /usr/local/lib/python3.7/dist-packages (from ipython->-r requirements.txt (line 35)) (2.6.1)\n",
            "Requirement already satisfied: backcall in /usr/local/lib/python3.7/dist-packages (from ipython->-r requirements.txt (line 35)) (0.2.0)\n",
            "Requirement already satisfied: pickleshare in /usr/local/lib/python3.7/dist-packages (from ipython->-r requirements.txt (line 35)) (0.7.5)\n",
            "Requirement already satisfied: parso<0.9.0,>=0.8.0 in /usr/local/lib/python3.7/dist-packages (from jedi>=0.16->ipython->-r requirements.txt (line 35)) (0.8.3)\n",
            "Requirement already satisfied: ptyprocess>=0.5 in /usr/local/lib/python3.7/dist-packages (from pexpect>4.3->ipython->-r requirements.txt (line 35)) (0.7.0)\n",
            "Requirement already satisfied: wcwidth in /usr/local/lib/python3.7/dist-packages (from prompt-toolkit!=3.0.0,!=3.0.1,<3.1.0,>=2.0.0->ipython->-r requirements.txt (line 35)) (0.2.5)\n"
          ]
        }
      ]
    },
    {
      "cell_type": "markdown",
      "metadata": {
        "id": "2UZNg_soDvwx"
      },
      "source": [
        "**Step 4: Run Object Detection on Images. Provide image path. Upload image in the inference/images/ folder**"
      ]
    },
    {
      "cell_type": "code",
      "metadata": {
        "id": "2Htu3pEMEQjG",
        "colab": {
          "base_uri": "https://localhost:8080/"
        },
        "outputId": "ce9a36a8-8f3e-4fc5-9ffd-1262bc670d01"
      },
      "source": [
        "!python detect.py --source /content/bee.jpg --weights yolov5s.pt --conf 0.2"
      ],
      "execution_count": null,
      "outputs": [
        {
          "output_type": "stream",
          "name": "stdout",
          "text": [
            "\u001b[34m\u001b[1mdetect: \u001b[0mweights=['yolov5s.pt'], source=/content/bee.jpg, data=data/coco128.yaml, imgsz=[640, 640], conf_thres=0.2, iou_thres=0.45, max_det=1000, device=, view_img=False, save_txt=False, save_conf=False, save_crop=False, nosave=False, classes=None, agnostic_nms=False, augment=False, visualize=False, update=False, project=runs/detect, name=exp, exist_ok=False, line_thickness=3, hide_labels=False, hide_conf=False, half=False, dnn=False\n",
            "YOLOv5 🚀 v6.1-274-gda2ee39 Python-3.7.13 torch-1.12.0+cu102 CPU\n",
            "\n",
            "Fusing layers... \n",
            "YOLOv5s summary: 213 layers, 7225885 parameters, 0 gradients\n",
            "image 1/1 /content/bee.jpg: 480x640 1 bird, Done. (0.331s)\n",
            "Speed: 3.4ms pre-process, 331.1ms inference, 1.4ms NMS per image at shape (1, 3, 640, 640)\n",
            "Results saved to \u001b[1mruns/detect/exp3\u001b[0m\n"
          ]
        }
      ]
    },
    {
      "cell_type": "markdown",
      "metadata": {
        "id": "ASZN4irpEAe4"
      },
      "source": [
        "**Step 5: Display image in colab**"
      ]
    },
    {
      "cell_type": "code",
      "metadata": {
        "id": "vYl5SAE_Dnzx",
        "colab": {
          "base_uri": "https://localhost:8080/",
          "height": 252
        },
        "outputId": "df96b4eb-3a73-41b4-f8a3-e2f8a02aa9f3"
      },
      "source": [
        "import cv2\n",
        "import matplotlib.pyplot as plt\n",
        "%matplotlib inline\n",
        "\n",
        "image = cv2.imread(\"/content/bee.png\")\n",
        "height, width = image.shape[:2]\n",
        "resized_image = cv2.resize(image,(3*width, 3*height), interpolation = cv2.INTER_CUBIC)\n",
        "\n",
        "fig = plt.gcf()\n",
        "fig.set_size_inches(18, 10)\n",
        "plt.axis(\"off\")\n",
        "plt.imshow(cv2.cvtColor(resized_image, cv2.COLOR_BGR2RGB))\n",
        "plt.show()"
      ],
      "execution_count": null,
      "outputs": [
        {
          "output_type": "error",
          "ename": "AttributeError",
          "evalue": "ignored",
          "traceback": [
            "\u001b[0;31m---------------------------------------------------------------------------\u001b[0m",
            "\u001b[0;31mAttributeError\u001b[0m                            Traceback (most recent call last)",
            "\u001b[0;32m<ipython-input-10-f8432a3e0222>\u001b[0m in \u001b[0;36m<module>\u001b[0;34m()\u001b[0m\n\u001b[1;32m      4\u001b[0m \u001b[0;34m\u001b[0m\u001b[0m\n\u001b[1;32m      5\u001b[0m \u001b[0mimage\u001b[0m \u001b[0;34m=\u001b[0m \u001b[0mcv2\u001b[0m\u001b[0;34m.\u001b[0m\u001b[0mimread\u001b[0m\u001b[0;34m(\u001b[0m\u001b[0;34m\"/content/meme3.png\"\u001b[0m\u001b[0;34m)\u001b[0m\u001b[0;34m\u001b[0m\u001b[0;34m\u001b[0m\u001b[0m\n\u001b[0;32m----> 6\u001b[0;31m \u001b[0mheight\u001b[0m\u001b[0;34m,\u001b[0m \u001b[0mwidth\u001b[0m \u001b[0;34m=\u001b[0m \u001b[0mimage\u001b[0m\u001b[0;34m.\u001b[0m\u001b[0mshape\u001b[0m\u001b[0;34m[\u001b[0m\u001b[0;34m:\u001b[0m\u001b[0;36m2\u001b[0m\u001b[0;34m]\u001b[0m\u001b[0;34m\u001b[0m\u001b[0;34m\u001b[0m\u001b[0m\n\u001b[0m\u001b[1;32m      7\u001b[0m \u001b[0mresized_image\u001b[0m \u001b[0;34m=\u001b[0m \u001b[0mcv2\u001b[0m\u001b[0;34m.\u001b[0m\u001b[0mresize\u001b[0m\u001b[0;34m(\u001b[0m\u001b[0mimage\u001b[0m\u001b[0;34m,\u001b[0m\u001b[0;34m(\u001b[0m\u001b[0;36m3\u001b[0m\u001b[0;34m*\u001b[0m\u001b[0mwidth\u001b[0m\u001b[0;34m,\u001b[0m \u001b[0;36m3\u001b[0m\u001b[0;34m*\u001b[0m\u001b[0mheight\u001b[0m\u001b[0;34m)\u001b[0m\u001b[0;34m,\u001b[0m \u001b[0minterpolation\u001b[0m \u001b[0;34m=\u001b[0m \u001b[0mcv2\u001b[0m\u001b[0;34m.\u001b[0m\u001b[0mINTER_CUBIC\u001b[0m\u001b[0;34m)\u001b[0m\u001b[0;34m\u001b[0m\u001b[0;34m\u001b[0m\u001b[0m\n\u001b[1;32m      8\u001b[0m \u001b[0;34m\u001b[0m\u001b[0m\n",
            "\u001b[0;31mAttributeError\u001b[0m: 'NoneType' object has no attribute 'shape'"
          ]
        }
      ]
    },
    {
      "cell_type": "markdown",
      "metadata": {
        "id": "cKKXHQH7EK2_"
      },
      "source": [
        "**Object Detection on Videos. Create a folder under inference/ called \"videos\", under which you can upload the video file and then provide the file path below**"
      ]
    },
    {
      "cell_type": "code",
      "metadata": {
        "id": "9xaATRddFJIC",
        "colab": {
          "base_uri": "https://localhost:8080/"
        },
        "outputId": "bad52c0a-3c8e-4681-92c2-d9248fe08095"
      },
      "source": [
        "!python detect.py --source /content/meme3.mp4 --weights yolov5s.pt --conf 0.4"
      ],
      "execution_count": null,
      "outputs": [
        {
          "output_type": "stream",
          "name": "stdout",
          "text": [
            "\u001b[34m\u001b[1mdetect: \u001b[0mweights=['yolov5s.pt'], source=/content/meme3.mp4, data=data/coco128.yaml, imgsz=[640, 640], conf_thres=0.4, iou_thres=0.45, max_det=1000, device=, view_img=False, save_txt=False, save_conf=False, save_crop=False, nosave=False, classes=None, agnostic_nms=False, augment=False, visualize=False, update=False, project=runs/detect, name=exp, exist_ok=False, line_thickness=3, hide_labels=False, hide_conf=False, half=False, dnn=False\n",
            "YOLOv5 🚀 v6.1-251-gc23a441 Python-3.7.13 torch-1.11.0+cu113 CPU\n",
            "\n",
            "Fusing layers... \n",
            "YOLOv5s summary: 213 layers, 7225885 parameters, 0 gradients\n",
            "video 1/1 (1/241) /content/meme3.mp4: 384x640 1 person, 2 dogs, 1 horse, Done. (0.313s)\n",
            "video 1/1 (2/241) /content/meme3.mp4: 384x640 1 person, 2 dogs, Done. (0.261s)\n",
            "video 1/1 (3/241) /content/meme3.mp4: 384x640 1 person, 2 dogs, Done. (0.273s)\n",
            "video 1/1 (4/241) /content/meme3.mp4: 384x640 1 person, 1 dog, 1 cow, Done. (0.260s)\n",
            "video 1/1 (5/241) /content/meme3.mp4: 384x640 1 person, 2 dogs, 2 cows, Done. (0.260s)\n",
            "video 1/1 (6/241) /content/meme3.mp4: 384x640 1 person, 2 cows, Done. (0.275s)\n",
            "video 1/1 (7/241) /content/meme3.mp4: 384x640 1 person, 2 cows, 1 frisbee, Done. (0.265s)\n",
            "video 1/1 (8/241) /content/meme3.mp4: 384x640 1 person, 2 cows, Done. (0.255s)\n",
            "video 1/1 (9/241) /content/meme3.mp4: 384x640 1 person, 2 cows, Done. (0.251s)\n",
            "video 1/1 (10/241) /content/meme3.mp4: 384x640 1 person, 1 dog, 2 cows, 1 frisbee, Done. (0.264s)\n",
            "video 1/1 (11/241) /content/meme3.mp4: 384x640 1 person, 1 dog, 1 cow, Done. (0.266s)\n",
            "video 1/1 (12/241) /content/meme3.mp4: 384x640 1 person, 2 cows, 1 frisbee, Done. (0.261s)\n",
            "video 1/1 (13/241) /content/meme3.mp4: 384x640 1 person, 2 dogs, 1 frisbee, Done. (0.259s)\n",
            "video 1/1 (14/241) /content/meme3.mp4: 384x640 1 person, 2 dogs, 1 frisbee, Done. (0.265s)\n",
            "video 1/1 (15/241) /content/meme3.mp4: 384x640 1 person, 2 dogs, 1 frisbee, Done. (0.259s)\n",
            "video 1/1 (16/241) /content/meme3.mp4: 384x640 1 person, 2 dogs, 1 frisbee, Done. (0.259s)\n",
            "video 1/1 (17/241) /content/meme3.mp4: 384x640 1 person, 2 dogs, 1 frisbee, Done. (0.259s)\n",
            "video 1/1 (18/241) /content/meme3.mp4: 384x640 1 person, 2 dogs, 1 frisbee, Done. (0.259s)\n",
            "video 1/1 (19/241) /content/meme3.mp4: 384x640 1 person, 2 dogs, 1 frisbee, Done. (0.281s)\n",
            "video 1/1 (20/241) /content/meme3.mp4: 384x640 1 person, 1 dog, 1 cow, Done. (0.261s)\n",
            "video 1/1 (21/241) /content/meme3.mp4: 384x640 1 person, 2 cows, Done. (0.270s)\n",
            "video 1/1 (22/241) /content/meme3.mp4: 384x640 1 person, 2 cows, Done. (0.260s)\n",
            "video 1/1 (23/241) /content/meme3.mp4: 384x640 1 person, 2 dogs, Done. (0.264s)\n",
            "video 1/1 (24/241) /content/meme3.mp4: 384x640 1 person, 2 dogs, Done. (0.260s)\n",
            "video 1/1 (25/241) /content/meme3.mp4: 384x640 1 person, 2 dogs, Done. (0.270s)\n",
            "video 1/1 (26/241) /content/meme3.mp4: 384x640 1 person, 2 dogs, 1 cow, Done. (0.258s)\n",
            "video 1/1 (27/241) /content/meme3.mp4: 384x640 1 person, 2 dogs, 1 cow, Done. (0.263s)\n",
            "video 1/1 (28/241) /content/meme3.mp4: 384x640 1 person, 1 dog, 1 cow, Done. (0.263s)\n",
            "video 1/1 (29/241) /content/meme3.mp4: 384x640 1 person, 2 dogs, 1 cow, 1 frisbee, Done. (0.258s)\n",
            "video 1/1 (30/241) /content/meme3.mp4: 384x640 1 person, 2 dogs, 1 frisbee, Done. (0.263s)\n",
            "video 1/1 (31/241) /content/meme3.mp4: 384x640 1 person, 2 dogs, 1 frisbee, Done. (0.254s)\n",
            "video 1/1 (32/241) /content/meme3.mp4: 384x640 1 person, 2 dogs, 1 frisbee, Done. (0.266s)\n",
            "video 1/1 (33/241) /content/meme3.mp4: 384x640 1 person, 2 dogs, 1 frisbee, Done. (0.260s)\n",
            "video 1/1 (34/241) /content/meme3.mp4: 384x640 1 person, 2 dogs, Done. (0.258s)\n",
            "video 1/1 (35/241) /content/meme3.mp4: 384x640 1 person, 2 dogs, 1 cow, Done. (0.258s)\n",
            "video 1/1 (36/241) /content/meme3.mp4: 384x640 1 person, 1 dog, 1 cow, Done. (0.265s)\n",
            "video 1/1 (37/241) /content/meme3.mp4: 384x640 1 person, 2 cows, Done. (0.258s)\n",
            "video 1/1 (38/241) /content/meme3.mp4: 384x640 1 person, 2 cows, Done. (0.255s)\n",
            "video 1/1 (39/241) /content/meme3.mp4: 384x640 1 person, 1 dog, 2 cows, Done. (0.256s)\n",
            "video 1/1 (40/241) /content/meme3.mp4: 384x640 1 person, 1 dog, 1 cow, Done. (0.268s)\n",
            "video 1/1 (41/241) /content/meme3.mp4: 384x640 1 person, 1 dog, 2 cows, Done. (0.274s)\n",
            "video 1/1 (42/241) /content/meme3.mp4: 384x640 1 person, 2 dogs, 1 cow, Done. (0.262s)\n",
            "video 1/1 (43/241) /content/meme3.mp4: 384x640 1 person, 2 cows, Done. (0.268s)\n",
            "video 1/1 (44/241) /content/meme3.mp4: 384x640 1 person, 2 cows, Done. (0.259s)\n",
            "video 1/1 (45/241) /content/meme3.mp4: 384x640 1 person, 2 cows, Done. (0.254s)\n",
            "video 1/1 (46/241) /content/meme3.mp4: 384x640 1 person, 2 dogs, Done. (0.263s)\n",
            "video 1/1 (47/241) /content/meme3.mp4: 384x640 1 person, 2 cows, Done. (0.271s)\n",
            "video 1/1 (48/241) /content/meme3.mp4: 384x640 1 person, 2 cows, Done. (0.262s)\n",
            "video 1/1 (49/241) /content/meme3.mp4: 384x640 1 person, 2 cows, Done. (0.260s)\n",
            "video 1/1 (50/241) /content/meme3.mp4: 384x640 1 person, 2 cows, Done. (0.261s)\n",
            "video 1/1 (51/241) /content/meme3.mp4: 384x640 1 person, 1 dog, 1 cow, Done. (0.270s)\n",
            "video 1/1 (52/241) /content/meme3.mp4: 384x640 1 person, 2 dogs, 1 frisbee, Done. (0.260s)\n",
            "video 1/1 (53/241) /content/meme3.mp4: 384x640 1 person, 1 dog, 2 cows, Done. (0.256s)\n",
            "video 1/1 (54/241) /content/meme3.mp4: 384x640 1 person, 1 dog, 2 cows, Done. (0.263s)\n",
            "video 1/1 (55/241) /content/meme3.mp4: 384x640 1 person, 2 cows, Done. (0.260s)\n",
            "video 1/1 (56/241) /content/meme3.mp4: 384x640 1 person, 2 cows, Done. (0.276s)\n",
            "video 1/1 (57/241) /content/meme3.mp4: 384x640 1 person, 1 dog, 2 cows, Done. (0.258s)\n",
            "video 1/1 (58/241) /content/meme3.mp4: 384x640 1 person, 1 dog, Done. (0.264s)\n",
            "video 1/1 (59/241) /content/meme3.mp4: 384x640 1 person, 1 dog, 2 cows, Done. (0.259s)\n",
            "video 1/1 (60/241) /content/meme3.mp4: 384x640 1 person, 1 dog, 2 cows, Done. (0.261s)\n",
            "video 1/1 (61/241) /content/meme3.mp4: 384x640 1 person, 2 dogs, Done. (0.269s)\n",
            "video 1/1 (62/241) /content/meme3.mp4: 384x640 1 person, 2 cows, Done. (0.277s)\n",
            "video 1/1 (63/241) /content/meme3.mp4: 384x640 1 person, 2 cows, Done. (0.270s)\n",
            "video 1/1 (64/241) /content/meme3.mp4: 384x640 1 person, 2 cows, Done. (0.269s)\n",
            "video 1/1 (65/241) /content/meme3.mp4: 384x640 1 person, 2 cows, Done. (0.276s)\n",
            "video 1/1 (66/241) /content/meme3.mp4: 384x640 1 person, 2 cows, Done. (0.281s)\n",
            "video 1/1 (67/241) /content/meme3.mp4: 384x640 1 person, 2 cows, Done. (0.355s)\n",
            "video 1/1 (68/241) /content/meme3.mp4: 384x640 1 person, 2 dogs, Done. (0.327s)\n",
            "video 1/1 (69/241) /content/meme3.mp4: 384x640 1 person, 2 dogs, 1 frisbee, Done. (0.539s)\n",
            "video 1/1 (70/241) /content/meme3.mp4: 384x640 1 person, 2 dogs, 1 frisbee, Done. (0.486s)\n",
            "video 1/1 (71/241) /content/meme3.mp4: 384x640 1 person, 2 dogs, 1 frisbee, Done. (0.268s)\n",
            "video 1/1 (72/241) /content/meme3.mp4: 384x640 1 person, 2 dogs, Done. (0.265s)\n",
            "video 1/1 (73/241) /content/meme3.mp4: 384x640 1 person, 2 dogs, 1 frisbee, Done. (0.267s)\n",
            "video 1/1 (74/241) /content/meme3.mp4: 384x640 1 person, 2 dogs, 1 frisbee, Done. (0.268s)\n",
            "video 1/1 (75/241) /content/meme3.mp4: 384x640 1 person, 2 dogs, 1 cow, 1 frisbee, Done. (0.268s)\n",
            "video 1/1 (76/241) /content/meme3.mp4: 384x640 1 person, 2 cows, 1 frisbee, Done. (0.262s)\n",
            "video 1/1 (77/241) /content/meme3.mp4: 384x640 1 person, 2 cows, 1 frisbee, Done. (0.271s)\n",
            "video 1/1 (78/241) /content/meme3.mp4: 384x640 1 person, 1 dog, 1 cow, Done. (0.264s)\n",
            "video 1/1 (79/241) /content/meme3.mp4: 384x640 1 person, 2 cows, Done. (0.258s)\n",
            "video 1/1 (80/241) /content/meme3.mp4: 384x640 1 person, 1 cow, Done. (0.263s)\n",
            "video 1/1 (81/241) /content/meme3.mp4: 384x640 1 person, 2 cows, Done. (0.274s)\n",
            "video 1/1 (82/241) /content/meme3.mp4: 384x640 1 person, 1 cow, Done. (0.267s)\n",
            "video 1/1 (83/241) /content/meme3.mp4: 384x640 1 person, 2 cows, Done. (0.263s)\n",
            "video 1/1 (84/241) /content/meme3.mp4: 384x640 1 person, 2 dogs, Done. (0.253s)\n",
            "video 1/1 (85/241) /content/meme3.mp4: 384x640 1 person, 2 cows, Done. (0.258s)\n",
            "video 1/1 (86/241) /content/meme3.mp4: 384x640 1 person, 2 cows, 1 frisbee, Done. (0.260s)\n",
            "video 1/1 (87/241) /content/meme3.mp4: 384x640 1 person, 1 dog, 1 cow, 1 frisbee, Done. (0.261s)\n",
            "video 1/1 (88/241) /content/meme3.mp4: 384x640 1 person, 2 dogs, 2 frisbees, Done. (0.264s)\n",
            "video 1/1 (89/241) /content/meme3.mp4: 384x640 1 person, 2 dogs, 2 frisbees, Done. (0.263s)\n",
            "video 1/1 (90/241) /content/meme3.mp4: 384x640 1 person, 2 dogs, 2 frisbees, Done. (0.285s)\n",
            "video 1/1 (91/241) /content/meme3.mp4: 384x640 1 person, 2 dogs, 1 cow, Done. (0.260s)\n",
            "video 1/1 (92/241) /content/meme3.mp4: 384x640 1 person, 2 cows, Done. (0.273s)\n",
            "video 1/1 (93/241) /content/meme3.mp4: 384x640 1 person, 2 cows, Done. (0.266s)\n",
            "video 1/1 (94/241) /content/meme3.mp4: 384x640 1 person, 1 dog, 1 horse, Done. (0.265s)\n",
            "video 1/1 (95/241) /content/meme3.mp4: 384x640 1 person, 2 dogs, Done. (0.275s)\n",
            "video 1/1 (96/241) /content/meme3.mp4: 384x640 1 person, 1 dog, 1 horse, Done. (0.264s)\n",
            "video 1/1 (97/241) /content/meme3.mp4: 384x640 1 person, 2 dogs, Done. (0.262s)\n",
            "video 1/1 (98/241) /content/meme3.mp4: 384x640 1 person, 1 dog, 2 cows, Done. (0.262s)\n",
            "video 1/1 (99/241) /content/meme3.mp4: 384x640 1 person, 1 dog, 2 cows, Done. (0.267s)\n",
            "video 1/1 (100/241) /content/meme3.mp4: 384x640 1 person, 1 dog, 1 cow, Done. (0.260s)\n",
            "video 1/1 (101/241) /content/meme3.mp4: 384x640 1 person, 1 dog, Done. (0.264s)\n",
            "video 1/1 (102/241) /content/meme3.mp4: 384x640 1 person, 1 dog, Done. (0.261s)\n",
            "video 1/1 (103/241) /content/meme3.mp4: 384x640 1 person, 2 dogs, Done. (0.266s)\n",
            "video 1/1 (104/241) /content/meme3.mp4: 384x640 1 person, 2 dogs, Done. (0.266s)\n",
            "video 1/1 (105/241) /content/meme3.mp4: 384x640 1 person, 1 dog, Done. (0.264s)\n",
            "video 1/1 (106/241) /content/meme3.mp4: 384x640 1 person, 1 dog, Done. (0.271s)\n",
            "video 1/1 (107/241) /content/meme3.mp4: 384x640 1 person, 2 dogs, 2 frisbees, Done. (0.260s)\n",
            "video 1/1 (108/241) /content/meme3.mp4: 384x640 1 person, 2 dogs, 1 frisbee, Done. (0.261s)\n",
            "video 1/1 (109/241) /content/meme3.mp4: 384x640 1 person, 1 dog, 1 frisbee, Done. (0.267s)\n",
            "video 1/1 (110/241) /content/meme3.mp4: 384x640 1 person, 1 dog, 1 frisbee, Done. (0.274s)\n",
            "video 1/1 (111/241) /content/meme3.mp4: 384x640 1 person, 1 dog, 1 horse, Done. (0.272s)\n",
            "video 1/1 (112/241) /content/meme3.mp4: 384x640 1 person, 1 dog, 1 horse, Done. (0.268s)\n",
            "video 1/1 (113/241) /content/meme3.mp4: 384x640 1 person, 1 dog, 1 frisbee, Done. (0.260s)\n",
            "video 1/1 (114/241) /content/meme3.mp4: 384x640 1 person, 1 dog, 1 horse, 1 frisbee, Done. (0.262s)\n",
            "video 1/1 (115/241) /content/meme3.mp4: 384x640 1 person, 1 dog, 1 horse, Done. (0.260s)\n",
            "video 1/1 (116/241) /content/meme3.mp4: 384x640 1 person, 1 dog, 1 horse, Done. (0.267s)\n",
            "video 1/1 (117/241) /content/meme3.mp4: 384x640 1 person, 1 dog, Done. (0.268s)\n",
            "video 1/1 (118/241) /content/meme3.mp4: 384x640 1 person, 1 dog, 1 cow, Done. (0.256s)\n",
            "video 1/1 (119/241) /content/meme3.mp4: 384x640 1 person, 2 dogs, 1 cow, Done. (0.265s)\n",
            "video 1/1 (120/241) /content/meme3.mp4: 384x640 1 person, 1 dog, 1 cow, Done. (0.273s)\n",
            "video 1/1 (121/241) /content/meme3.mp4: 384x640 1 person, 1 dog, 2 cows, Done. (0.268s)\n",
            "video 1/1 (122/241) /content/meme3.mp4: 384x640 1 person, 1 dog, 1 cow, Done. (0.264s)\n",
            "video 1/1 (123/241) /content/meme3.mp4: 384x640 1 person, 1 dog, Done. (0.255s)\n",
            "video 1/1 (124/241) /content/meme3.mp4: 384x640 1 person, 2 dogs, Done. (0.256s)\n",
            "video 1/1 (125/241) /content/meme3.mp4: 384x640 1 person, 2 dogs, Done. (0.266s)\n",
            "video 1/1 (126/241) /content/meme3.mp4: 384x640 1 person, 1 dog, 1 cow, Done. (0.261s)\n",
            "video 1/1 (127/241) /content/meme3.mp4: 384x640 1 person, 2 cows, Done. (0.286s)\n",
            "video 1/1 (128/241) /content/meme3.mp4: 384x640 1 person, 1 dog, 2 cows, Done. (0.267s)\n",
            "video 1/1 (129/241) /content/meme3.mp4: 384x640 1 person, 2 cows, Done. (0.256s)\n",
            "video 1/1 (130/241) /content/meme3.mp4: 384x640 1 person, 1 dog, 1 cow, Done. (0.259s)\n",
            "video 1/1 (131/241) /content/meme3.mp4: 384x640 1 person, 1 dog, 1 frisbee, Done. (0.258s)\n",
            "video 1/1 (132/241) /content/meme3.mp4: 384x640 1 person, 1 dog, Done. (0.265s)\n",
            "video 1/1 (133/241) /content/meme3.mp4: 384x640 1 person, 1 dog, 1 cow, 1 frisbee, Done. (0.256s)\n",
            "video 1/1 (134/241) /content/meme3.mp4: 384x640 1 person, 2 dogs, Done. (0.260s)\n",
            "video 1/1 (135/241) /content/meme3.mp4: 384x640 1 person, 1 dog, 1 cow, Done. (0.258s)\n",
            "video 1/1 (136/241) /content/meme3.mp4: 384x640 1 person, 2 cows, Done. (0.257s)\n",
            "video 1/1 (137/241) /content/meme3.mp4: 384x640 1 person, 2 cows, Done. (0.261s)\n",
            "video 1/1 (138/241) /content/meme3.mp4: 384x640 1 person, 1 dog, 1 horse, Done. (0.266s)\n",
            "video 1/1 (139/241) /content/meme3.mp4: 384x640 1 person, 1 dog, 1 horse, Done. (0.272s)\n",
            "video 1/1 (140/241) /content/meme3.mp4: 384x640 1 person, 2 dogs, 1 frisbee, Done. (0.259s)\n",
            "video 1/1 (141/241) /content/meme3.mp4: 384x640 1 person, 1 dog, 1 cow, 1 frisbee, Done. (0.258s)\n",
            "video 1/1 (142/241) /content/meme3.mp4: 384x640 1 person, 2 dogs, 1 frisbee, Done. (0.260s)\n",
            "video 1/1 (143/241) /content/meme3.mp4: 384x640 1 person, 2 dogs, 1 frisbee, Done. (0.264s)\n",
            "video 1/1 (144/241) /content/meme3.mp4: 384x640 1 person, 2 dogs, 1 frisbee, Done. (0.257s)\n",
            "video 1/1 (145/241) /content/meme3.mp4: 384x640 1 person, 2 dogs, 1 frisbee, Done. (0.258s)\n",
            "video 1/1 (146/241) /content/meme3.mp4: 384x640 1 person, 2 dogs, 1 frisbee, Done. (0.260s)\n",
            "video 1/1 (147/241) /content/meme3.mp4: 384x640 1 person, 2 cows, Done. (0.264s)\n",
            "video 1/1 (148/241) /content/meme3.mp4: 384x640 1 person, 1 horse, 2 cows, Done. (0.252s)\n",
            "video 1/1 (149/241) /content/meme3.mp4: 384x640 1 person, 1 horse, 1 cow, Done. (0.256s)\n",
            "video 1/1 (150/241) /content/meme3.mp4: 384x640 1 person, 1 horse, 1 cow, Done. (0.262s)\n",
            "video 1/1 (151/241) /content/meme3.mp4: 384x640 1 person, 2 cows, Done. (0.261s)\n",
            "video 1/1 (152/241) /content/meme3.mp4: 384x640 1 person, 1 horse, 1 cow, Done. (0.257s)\n",
            "video 1/1 (153/241) /content/meme3.mp4: 384x640 1 person, 1 dog, 2 horses, Done. (0.250s)\n",
            "video 1/1 (154/241) /content/meme3.mp4: 384x640 1 person, 1 dog, 1 horse, Done. (0.268s)\n",
            "video 1/1 (155/241) /content/meme3.mp4: 384x640 1 person, 2 horses, 1 cow, Done. (0.258s)\n",
            "video 1/1 (156/241) /content/meme3.mp4: 384x640 1 person, 1 dog, 1 horse, 1 cow, Done. (0.254s)\n",
            "video 1/1 (157/241) /content/meme3.mp4: 384x640 1 person, 1 dog, 1 horse, 2 cows, Done. (0.264s)\n",
            "video 1/1 (158/241) /content/meme3.mp4: 384x640 1 person, 2 dogs, 1 frisbee, Done. (0.276s)\n",
            "video 1/1 (159/241) /content/meme3.mp4: 384x640 1 person, 2 dogs, 1 frisbee, Done. (0.254s)\n",
            "video 1/1 (160/241) /content/meme3.mp4: 384x640 1 person, 2 dogs, 1 frisbee, Done. (0.258s)\n",
            "video 1/1 (161/241) /content/meme3.mp4: 384x640 1 person, 2 dogs, 1 frisbee, Done. (0.264s)\n",
            "video 1/1 (162/241) /content/meme3.mp4: 384x640 1 person, 2 cows, 1 frisbee, Done. (0.271s)\n",
            "video 1/1 (163/241) /content/meme3.mp4: 384x640 1 person, 2 dogs, 1 frisbee, Done. (0.253s)\n",
            "video 1/1 (164/241) /content/meme3.mp4: 384x640 1 person, 1 horse, 2 cows, 1 frisbee, Done. (0.277s)\n",
            "video 1/1 (165/241) /content/meme3.mp4: 384x640 1 person, 2 dogs, 1 frisbee, Done. (0.268s)\n",
            "video 1/1 (166/241) /content/meme3.mp4: 384x640 1 person, 1 dog, 1 cow, 1 frisbee, Done. (0.258s)\n",
            "video 1/1 (167/241) /content/meme3.mp4: 384x640 1 person, 1 dog, 1 cow, Done. (0.263s)\n",
            "video 1/1 (168/241) /content/meme3.mp4: 384x640 2 persons, 1 dog, 1 cow, Done. (0.258s)\n",
            "video 1/1 (169/241) /content/meme3.mp4: 384x640 2 persons, 2 dogs, 1 frisbee, Done. (0.277s)\n",
            "video 1/1 (170/241) /content/meme3.mp4: 384x640 2 persons, 2 dogs, 1 cow, 1 frisbee, Done. (0.255s)\n",
            "video 1/1 (171/241) /content/meme3.mp4: 384x640 2 persons, 2 dogs, 1 frisbee, Done. (0.257s)\n",
            "video 1/1 (172/241) /content/meme3.mp4: 384x640 2 persons, 2 dogs, 1 frisbee, Done. (0.259s)\n",
            "video 1/1 (173/241) /content/meme3.mp4: 384x640 2 persons, 2 dogs, 1 cow, 1 frisbee, Done. (0.259s)\n",
            "video 1/1 (174/241) /content/meme3.mp4: 384x640 2 persons, 1 dog, 1 cow, 1 frisbee, Done. (0.262s)\n",
            "video 1/1 (175/241) /content/meme3.mp4: 384x640 2 persons, 1 elephant, 1 frisbee, Done. (0.259s)\n",
            "video 1/1 (176/241) /content/meme3.mp4: 384x640 2 persons, 2 dogs, 1 frisbee, Done. (0.271s)\n",
            "video 1/1 (177/241) /content/meme3.mp4: 384x640 2 persons, 2 horses, 1 frisbee, Done. (0.255s)\n",
            "video 1/1 (178/241) /content/meme3.mp4: 384x640 2 persons, 1 frisbee, Done. (0.261s)\n",
            "video 1/1 (179/241) /content/meme3.mp4: 384x640 2 persons, 1 frisbee, Done. (0.262s)\n",
            "video 1/1 (180/241) /content/meme3.mp4: 384x640 2 persons, 1 frisbee, Done. (0.272s)\n",
            "video 1/1 (181/241) /content/meme3.mp4: 384x640 2 persons, 1 dog, 1 frisbee, 1 sports ball, Done. (0.267s)\n",
            "video 1/1 (182/241) /content/meme3.mp4: 384x640 2 persons, 2 dogs, 1 frisbee, Done. (0.262s)\n",
            "video 1/1 (183/241) /content/meme3.mp4: 384x640 2 persons, 2 cows, 1 frisbee, Done. (0.277s)\n",
            "video 1/1 (184/241) /content/meme3.mp4: 384x640 3 persons, 2 cows, 1 frisbee, Done. (0.262s)\n",
            "video 1/1 (185/241) /content/meme3.mp4: 384x640 2 persons, 2 dogs, 1 cow, 1 frisbee, Done. (0.256s)\n",
            "video 1/1 (186/241) /content/meme3.mp4: 384x640 2 persons, 2 cows, 1 frisbee, Done. (0.251s)\n",
            "video 1/1 (187/241) /content/meme3.mp4: 384x640 2 persons, 2 cows, 1 frisbee, Done. (0.260s)\n",
            "video 1/1 (188/241) /content/meme3.mp4: 384x640 2 persons, 1 dog, 2 cows, 1 frisbee, Done. (0.256s)\n",
            "video 1/1 (189/241) /content/meme3.mp4: 384x640 2 persons, 1 dog, 2 cows, 1 frisbee, Done. (0.256s)\n",
            "video 1/1 (190/241) /content/meme3.mp4: 384x640 2 persons, 2 dogs, 1 umbrella, 1 frisbee, Done. (0.253s)\n",
            "video 1/1 (191/241) /content/meme3.mp4: 384x640 2 persons, 2 dogs, 1 umbrella, 1 frisbee, Done. (0.265s)\n",
            "video 1/1 (192/241) /content/meme3.mp4: 384x640 2 persons, 2 horses, 1 frisbee, Done. (0.264s)\n",
            "video 1/1 (193/241) /content/meme3.mp4: 384x640 2 persons, 2 dogs, 1 frisbee, Done. (0.257s)\n",
            "video 1/1 (194/241) /content/meme3.mp4: 384x640 2 persons, 2 dogs, 1 frisbee, Done. (0.266s)\n",
            "video 1/1 (195/241) /content/meme3.mp4: 384x640 2 persons, 2 dogs, 1 frisbee, Done. (0.263s)\n",
            "video 1/1 (196/241) /content/meme3.mp4: 384x640 2 persons, 2 dogs, 1 cow, 1 frisbee, Done. (0.254s)\n",
            "video 1/1 (197/241) /content/meme3.mp4: 384x640 2 persons, 2 dogs, 1 cow, 1 frisbee, Done. (0.252s)\n",
            "video 1/1 (198/241) /content/meme3.mp4: 384x640 2 persons, 1 dog, 2 cows, 1 frisbee, Done. (0.261s)\n",
            "video 1/1 (199/241) /content/meme3.mp4: 384x640 2 persons, 2 cows, 1 frisbee, Done. (0.256s)\n",
            "video 1/1 (200/241) /content/meme3.mp4: 384x640 2 persons, 2 dogs, 1 cow, 1 frisbee, 1 sports ball, Done. (0.258s)\n",
            "video 1/1 (201/241) /content/meme3.mp4: 384x640 2 persons, 2 cows, 1 sports ball, Done. (0.273s)\n",
            "video 1/1 (202/241) /content/meme3.mp4: 384x640 2 persons, 2 cows, 1 frisbee, Done. (0.263s)\n",
            "video 1/1 (203/241) /content/meme3.mp4: 384x640 2 persons, 1 dog, 2 cows, 1 frisbee, Done. (0.251s)\n",
            "video 1/1 (204/241) /content/meme3.mp4: 384x640 2 persons, 1 dog, 2 cows, Done. (0.255s)\n",
            "video 1/1 (205/241) /content/meme3.mp4: 384x640 2 persons, 2 dogs, 1 cow, 1 frisbee, Done. (0.264s)\n",
            "video 1/1 (206/241) /content/meme3.mp4: 384x640 2 persons, 2 dogs, 1 frisbee, Done. (0.261s)\n",
            "video 1/1 (207/241) /content/meme3.mp4: 384x640 2 persons, 1 dog, 2 cows, 1 frisbee, Done. (0.249s)\n",
            "video 1/1 (208/241) /content/meme3.mp4: 384x640 2 persons, 2 dogs, 1 frisbee, Done. (0.255s)\n",
            "video 1/1 (209/241) /content/meme3.mp4: 384x640 2 persons, 2 cows, 1 frisbee, Done. (0.251s)\n",
            "video 1/1 (210/241) /content/meme3.mp4: 384x640 2 persons, 2 dogs, 1 frisbee, Done. (0.255s)\n",
            "video 1/1 (211/241) /content/meme3.mp4: 384x640 2 persons, 2 cows, 1 frisbee, Done. (0.255s)\n",
            "video 1/1 (212/241) /content/meme3.mp4: 384x640 2 persons, 2 dogs, 2 cows, 1 frisbee, Done. (0.254s)\n",
            "video 1/1 (213/241) /content/meme3.mp4: 384x640 2 persons, 2 dogs, 1 cow, 1 frisbee, Done. (0.259s)\n",
            "video 1/1 (214/241) /content/meme3.mp4: 384x640 2 persons, 2 dogs, 1 frisbee, Done. (0.253s)\n",
            "video 1/1 (215/241) /content/meme3.mp4: 384x640 2 persons, 2 dogs, 1 cow, 1 frisbee, Done. (0.249s)\n",
            "video 1/1 (216/241) /content/meme3.mp4: 384x640 2 persons, 2 dogs, 1 frisbee, Done. (0.261s)\n",
            "video 1/1 (217/241) /content/meme3.mp4: 384x640 2 persons, 2 dogs, 1 frisbee, Done. (0.259s)\n",
            "video 1/1 (218/241) /content/meme3.mp4: 384x640 2 persons, 2 dogs, 1 frisbee, Done. (0.249s)\n",
            "video 1/1 (219/241) /content/meme3.mp4: 384x640 3 persons, 2 dogs, 1 frisbee, Done. (0.254s)\n",
            "video 1/1 (220/241) /content/meme3.mp4: 384x640 3 persons, 2 dogs, 1 frisbee, Done. (0.252s)\n",
            "video 1/1 (221/241) /content/meme3.mp4: 384x640 3 persons, 2 dogs, 1 frisbee, Done. (0.261s)\n",
            "video 1/1 (222/241) /content/meme3.mp4: 384x640 3 persons, 2 dogs, 1 frisbee, Done. (0.254s)\n",
            "video 1/1 (223/241) /content/meme3.mp4: 384x640 3 persons, 2 dogs, 1 frisbee, Done. (0.261s)\n",
            "video 1/1 (224/241) /content/meme3.mp4: 384x640 3 persons, 2 cows, Done. (0.258s)\n",
            "video 1/1 (225/241) /content/meme3.mp4: 384x640 3 persons, 2 cows, Done. (0.269s)\n",
            "video 1/1 (226/241) /content/meme3.mp4: 384x640 3 persons, 2 cows, 1 frisbee, Done. (0.262s)\n",
            "video 1/1 (227/241) /content/meme3.mp4: 384x640 3 persons, 2 dogs, 1 frisbee, Done. (0.263s)\n",
            "video 1/1 (228/241) /content/meme3.mp4: 384x640 2 persons, 2 dogs, 1 frisbee, Done. (0.270s)\n",
            "video 1/1 (229/241) /content/meme3.mp4: 384x640 2 persons, 2 cows, 1 frisbee, Done. (0.255s)\n",
            "video 1/1 (230/241) /content/meme3.mp4: 384x640 2 persons, 2 cows, 1 frisbee, Done. (0.257s)\n",
            "video 1/1 (231/241) /content/meme3.mp4: 384x640 3 persons, 2 cows, 1 frisbee, Done. (0.251s)\n",
            "video 1/1 (232/241) /content/meme3.mp4: 384x640 3 persons, 2 cows, 1 frisbee, Done. (0.260s)\n",
            "video 1/1 (233/241) /content/meme3.mp4: 384x640 3 persons, 2 cows, Done. (0.251s)\n",
            "video 1/1 (234/241) /content/meme3.mp4: 384x640 3 persons, 2 cows, Done. (0.256s)\n",
            "video 1/1 (235/241) /content/meme3.mp4: 384x640 3 persons, 1 dog, 2 cows, 1 frisbee, Done. (0.263s)\n",
            "video 1/1 (236/241) /content/meme3.mp4: 384x640 2 persons, 2 dogs, 1 frisbee, Done. (0.271s)\n",
            "video 1/1 (237/241) /content/meme3.mp4: 384x640 2 persons, 2 dogs, 1 frisbee, Done. (0.253s)\n",
            "video 1/1 (238/241) /content/meme3.mp4: 384x640 2 persons, 2 dogs, 1 frisbee, Done. (0.253s)\n",
            "video 1/1 (239/241) /content/meme3.mp4: 384x640 2 persons, 2 dogs, 2 cows, 1 frisbee, Done. (0.263s)\n",
            "video 1/1 (240/241) /content/meme3.mp4: 384x640 2 persons, 2 cows, 1 frisbee, Done. (0.256s)\n",
            "video 1/1 (241/241) /content/meme3.mp4: 384x640 2 persons, 2 cows, Done. (0.250s)\n",
            "Speed: 1.8ms pre-process, 265.0ms inference, 1.2ms NMS per image at shape (1, 3, 640, 640)\n",
            "Results saved to \u001b[1mruns/detect/exp4\u001b[0m\n"
          ]
        }
      ]
    },
    {
      "cell_type": "code",
      "source": [
        ""
      ],
      "metadata": {
        "id": "VPiOY_C2260D"
      },
      "execution_count": null,
      "outputs": []
    }
  ]
}